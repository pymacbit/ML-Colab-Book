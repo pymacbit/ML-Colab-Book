{
 "cells": [
  {
   "cell_type": "markdown",
   "metadata": {
    "colab_type": "text",
    "id": "view-in-github"
   },
   "source": [
    "<a href=\"https://colab.research.google.com/github/pymacbit/ML-Colab-Book/blob/master/Data%20PreProcess%20%26%20Analysis/EDA%20%7C%20Bike%20Rentals.ipynb\" target=\"_parent\"><img src=\"https://colab.research.google.com/assets/colab-badge.svg\" alt=\"Open In Colab\"/></a>"
   ]
  },
  {
   "cell_type": "markdown",
   "metadata": {
    "colab_type": "text",
    "id": "wxB03lhG4gYT"
   },
   "source": [
    "### EDA Bike Rentals "
   ]
  },
  {
   "cell_type": "code",
   "execution_count": null,
   "metadata": {
    "colab": {
     "base_uri": "https://localhost:8080/",
     "height": 71
    },
    "colab_type": "code",
    "id": "b09O26Dj4gYW",
    "outputId": "1c98efb3-3528-4283-f532-162cf8d208c7"
   },
   "outputs": [
    {
     "name": "stderr",
     "output_type": "stream",
     "text": [
      "/usr/local/lib/python3.6/dist-packages/statsmodels/tools/_testing.py:19: FutureWarning: pandas.util.testing is deprecated. Use the functions in the public API at pandas.testing instead.\n",
      "  import pandas.util.testing as tm\n"
     ]
    }
   ],
   "source": [
    "import seaborn as sns\n",
    "import pandas as pd\n",
    "import numpy as np\n",
    "import matplotlib.pyplot as plt\n",
    "%matplotlib inline"
   ]
  },
  {
   "cell_type": "code",
   "execution_count": null,
   "metadata": {
    "colab": {
     "base_uri": "https://localhost:8080/",
     "height": 153
    },
    "colab_type": "code",
    "id": "As7A8HKR4j-F",
    "outputId": "f64a1d58-9f80-48f6-d8bf-684f3f97bb80"
   },
   "outputs": [
    {
     "name": "stdout",
     "output_type": "stream",
     "text": [
      "Downloading...\n",
      "From: https://drive.google.com/uc?id=18hvNEqy39fz76yvMGLZ7x7xDsx_fVKFG\n",
      "To: /content/hour.csv\n",
      "100% 1.14M/1.14M [00:00<00:00, 76.4MB/s]\n",
      "Downloading...\n",
      "From: https://drive.google.com/uc?id=1xu3QzhgvpizR_Sju7fPUqjpCUftvRxkG\n",
      "To: /content/day.csv\n",
      "100% 56.8k/56.8k [00:00<00:00, 15.7MB/s]\n"
     ]
    }
   ],
   "source": [
    "!gdown --id 18hvNEqy39fz76yvMGLZ7x7xDsx_fVKFG --output hour.csv\n",
    "!gdown --id 1xu3QzhgvpizR_Sju7fPUqjpCUftvRxkG --output day.csv"
   ]
  },
  {
   "cell_type": "code",
   "execution_count": null,
   "metadata": {
    "colab": {},
    "colab_type": "code",
    "id": "WH1OZw3c4gYj"
   },
   "outputs": [],
   "source": [
    "# Read Data\n",
    "\n",
    "hour = pd.read_csv('hour.csv')\n",
    "day = pd.read_csv('day.csv')"
   ]
  },
  {
   "cell_type": "markdown",
   "metadata": {
    "colab_type": "text",
    "id": "koUs-gAK4gYs"
   },
   "source": [
    "### Lets get to know our Data\n",
    "\n",
    "Beginning this project we are going to focus on the hour data. This dataset contains total bike rentals per hour. Let's see the first 5 rowns."
   ]
  },
  {
   "cell_type": "code",
   "execution_count": null,
   "metadata": {
    "colab": {
     "base_uri": "https://localhost:8080/",
     "height": 111
    },
    "colab_type": "code",
    "id": "WsynaDBY4gYu",
    "outputId": "b5c80a07-0aa6-4d78-d2ce-c57177870fb2"
   },
   "outputs": [
    {
     "data": {
      "text/html": [
       "<div>\n",
       "<style scoped>\n",
       "    .dataframe tbody tr th:only-of-type {\n",
       "        vertical-align: middle;\n",
       "    }\n",
       "\n",
       "    .dataframe tbody tr th {\n",
       "        vertical-align: top;\n",
       "    }\n",
       "\n",
       "    .dataframe thead th {\n",
       "        text-align: right;\n",
       "    }\n",
       "</style>\n",
       "<table border=\"1\" class=\"dataframe\">\n",
       "  <thead>\n",
       "    <tr style=\"text-align: right;\">\n",
       "      <th></th>\n",
       "      <th>instant</th>\n",
       "      <th>dteday</th>\n",
       "      <th>season</th>\n",
       "      <th>yr</th>\n",
       "      <th>mnth</th>\n",
       "      <th>hr</th>\n",
       "      <th>holiday</th>\n",
       "      <th>weekday</th>\n",
       "      <th>workingday</th>\n",
       "      <th>weathersit</th>\n",
       "      <th>temp</th>\n",
       "      <th>atemp</th>\n",
       "      <th>hum</th>\n",
       "      <th>windspeed</th>\n",
       "      <th>casual</th>\n",
       "      <th>registered</th>\n",
       "      <th>cnt</th>\n",
       "    </tr>\n",
       "  </thead>\n",
       "  <tbody>\n",
       "    <tr>\n",
       "      <th>0</th>\n",
       "      <td>1</td>\n",
       "      <td>2011-01-01</td>\n",
       "      <td>1</td>\n",
       "      <td>0</td>\n",
       "      <td>1</td>\n",
       "      <td>0</td>\n",
       "      <td>0</td>\n",
       "      <td>6</td>\n",
       "      <td>0</td>\n",
       "      <td>1</td>\n",
       "      <td>0.24</td>\n",
       "      <td>0.2879</td>\n",
       "      <td>0.81</td>\n",
       "      <td>0.0</td>\n",
       "      <td>3</td>\n",
       "      <td>13</td>\n",
       "      <td>16</td>\n",
       "    </tr>\n",
       "    <tr>\n",
       "      <th>1</th>\n",
       "      <td>2</td>\n",
       "      <td>2011-01-01</td>\n",
       "      <td>1</td>\n",
       "      <td>0</td>\n",
       "      <td>1</td>\n",
       "      <td>1</td>\n",
       "      <td>0</td>\n",
       "      <td>6</td>\n",
       "      <td>0</td>\n",
       "      <td>1</td>\n",
       "      <td>0.22</td>\n",
       "      <td>0.2727</td>\n",
       "      <td>0.80</td>\n",
       "      <td>0.0</td>\n",
       "      <td>8</td>\n",
       "      <td>32</td>\n",
       "      <td>40</td>\n",
       "    </tr>\n",
       "  </tbody>\n",
       "</table>\n",
       "</div>"
      ],
      "text/plain": [
       "   instant      dteday  season  yr  ...  windspeed  casual  registered  cnt\n",
       "0        1  2011-01-01       1   0  ...        0.0       3          13   16\n",
       "1        2  2011-01-01       1   0  ...        0.0       8          32   40\n",
       "\n",
       "[2 rows x 17 columns]"
      ]
     },
     "execution_count": 4,
     "metadata": {
      "tags": []
     },
     "output_type": "execute_result"
    }
   ],
   "source": [
    "hour.head(2)"
   ]
  },
  {
   "cell_type": "markdown",
   "metadata": {
    "colab_type": "text",
    "id": "1nARr4Xe4gY1"
   },
   "source": [
    "Next step is to output some basic info. We can see that there are 17379 (per hour)instances and thankfully we have no missing data."
   ]
  },
  {
   "cell_type": "code",
   "execution_count": null,
   "metadata": {
    "colab": {
     "base_uri": "https://localhost:8080/",
     "height": 442
    },
    "colab_type": "code",
    "id": "s1xz-Yf04gY2",
    "outputId": "54820cfd-b452-46bf-92ef-bd9da9f1c036"
   },
   "outputs": [
    {
     "name": "stdout",
     "output_type": "stream",
     "text": [
      "<class 'pandas.core.frame.DataFrame'>\n",
      "RangeIndex: 17379 entries, 0 to 17378\n",
      "Data columns (total 17 columns):\n",
      " #   Column      Non-Null Count  Dtype  \n",
      "---  ------      --------------  -----  \n",
      " 0   instant     17379 non-null  int64  \n",
      " 1   dteday      17379 non-null  object \n",
      " 2   season      17379 non-null  int64  \n",
      " 3   yr          17379 non-null  int64  \n",
      " 4   mnth        17379 non-null  int64  \n",
      " 5   hr          17379 non-null  int64  \n",
      " 6   holiday     17379 non-null  int64  \n",
      " 7   weekday     17379 non-null  int64  \n",
      " 8   workingday  17379 non-null  int64  \n",
      " 9   weathersit  17379 non-null  int64  \n",
      " 10  temp        17379 non-null  float64\n",
      " 11  atemp       17379 non-null  float64\n",
      " 12  hum         17379 non-null  float64\n",
      " 13  windspeed   17379 non-null  float64\n",
      " 14  casual      17379 non-null  int64  \n",
      " 15  registered  17379 non-null  int64  \n",
      " 16  cnt         17379 non-null  int64  \n",
      "dtypes: float64(4), int64(12), object(1)\n",
      "memory usage: 2.3+ MB\n",
      "None\n"
     ]
    }
   ],
   "source": [
    "print(hour.info())"
   ]
  },
  {
   "cell_type": "markdown",
   "metadata": {
    "colab_type": "text",
    "id": "0MP8FUkZ4gY9"
   },
   "source": [
    "Using describe method we can notice some useful data about the minimum or maximum bike data rentals. We can see that at some point there was only 1 bike rental while the mean rental is supposed to be at 189 bikes per hour. That makes me wonder what was happening at that time. Maybe some really bad weather conditions or something. We are going to further dig into the data later on."
   ]
  },
  {
   "cell_type": "code",
   "execution_count": null,
   "metadata": {
    "colab": {
     "base_uri": "https://localhost:8080/",
     "height": 317
    },
    "colab_type": "code",
    "id": "_APFR91b4gY9",
    "outputId": "21d77859-dc58-425a-d619-f8dc57598f4c"
   },
   "outputs": [
    {
     "data": {
      "text/html": [
       "<div>\n",
       "<style scoped>\n",
       "    .dataframe tbody tr th:only-of-type {\n",
       "        vertical-align: middle;\n",
       "    }\n",
       "\n",
       "    .dataframe tbody tr th {\n",
       "        vertical-align: top;\n",
       "    }\n",
       "\n",
       "    .dataframe thead th {\n",
       "        text-align: right;\n",
       "    }\n",
       "</style>\n",
       "<table border=\"1\" class=\"dataframe\">\n",
       "  <thead>\n",
       "    <tr style=\"text-align: right;\">\n",
       "      <th></th>\n",
       "      <th>instant</th>\n",
       "      <th>season</th>\n",
       "      <th>yr</th>\n",
       "      <th>mnth</th>\n",
       "      <th>hr</th>\n",
       "      <th>holiday</th>\n",
       "      <th>weekday</th>\n",
       "      <th>workingday</th>\n",
       "      <th>weathersit</th>\n",
       "      <th>temp</th>\n",
       "      <th>atemp</th>\n",
       "      <th>hum</th>\n",
       "      <th>windspeed</th>\n",
       "      <th>casual</th>\n",
       "      <th>registered</th>\n",
       "      <th>cnt</th>\n",
       "    </tr>\n",
       "  </thead>\n",
       "  <tbody>\n",
       "    <tr>\n",
       "      <th>count</th>\n",
       "      <td>17379.0000</td>\n",
       "      <td>17379.000000</td>\n",
       "      <td>17379.000000</td>\n",
       "      <td>17379.000000</td>\n",
       "      <td>17379.000000</td>\n",
       "      <td>17379.000000</td>\n",
       "      <td>17379.000000</td>\n",
       "      <td>17379.000000</td>\n",
       "      <td>17379.000000</td>\n",
       "      <td>17379.000000</td>\n",
       "      <td>17379.000000</td>\n",
       "      <td>17379.000000</td>\n",
       "      <td>17379.000000</td>\n",
       "      <td>17379.000000</td>\n",
       "      <td>17379.000000</td>\n",
       "      <td>17379.000000</td>\n",
       "    </tr>\n",
       "    <tr>\n",
       "      <th>mean</th>\n",
       "      <td>8690.0000</td>\n",
       "      <td>2.501640</td>\n",
       "      <td>0.502561</td>\n",
       "      <td>6.537775</td>\n",
       "      <td>11.546752</td>\n",
       "      <td>0.028770</td>\n",
       "      <td>3.003683</td>\n",
       "      <td>0.682721</td>\n",
       "      <td>1.425283</td>\n",
       "      <td>0.496987</td>\n",
       "      <td>0.475775</td>\n",
       "      <td>0.627229</td>\n",
       "      <td>0.190098</td>\n",
       "      <td>35.676218</td>\n",
       "      <td>153.786869</td>\n",
       "      <td>189.463088</td>\n",
       "    </tr>\n",
       "    <tr>\n",
       "      <th>std</th>\n",
       "      <td>5017.0295</td>\n",
       "      <td>1.106918</td>\n",
       "      <td>0.500008</td>\n",
       "      <td>3.438776</td>\n",
       "      <td>6.914405</td>\n",
       "      <td>0.167165</td>\n",
       "      <td>2.005771</td>\n",
       "      <td>0.465431</td>\n",
       "      <td>0.639357</td>\n",
       "      <td>0.192556</td>\n",
       "      <td>0.171850</td>\n",
       "      <td>0.192930</td>\n",
       "      <td>0.122340</td>\n",
       "      <td>49.305030</td>\n",
       "      <td>151.357286</td>\n",
       "      <td>181.387599</td>\n",
       "    </tr>\n",
       "    <tr>\n",
       "      <th>min</th>\n",
       "      <td>1.0000</td>\n",
       "      <td>1.000000</td>\n",
       "      <td>0.000000</td>\n",
       "      <td>1.000000</td>\n",
       "      <td>0.000000</td>\n",
       "      <td>0.000000</td>\n",
       "      <td>0.000000</td>\n",
       "      <td>0.000000</td>\n",
       "      <td>1.000000</td>\n",
       "      <td>0.020000</td>\n",
       "      <td>0.000000</td>\n",
       "      <td>0.000000</td>\n",
       "      <td>0.000000</td>\n",
       "      <td>0.000000</td>\n",
       "      <td>0.000000</td>\n",
       "      <td>1.000000</td>\n",
       "    </tr>\n",
       "    <tr>\n",
       "      <th>25%</th>\n",
       "      <td>4345.5000</td>\n",
       "      <td>2.000000</td>\n",
       "      <td>0.000000</td>\n",
       "      <td>4.000000</td>\n",
       "      <td>6.000000</td>\n",
       "      <td>0.000000</td>\n",
       "      <td>1.000000</td>\n",
       "      <td>0.000000</td>\n",
       "      <td>1.000000</td>\n",
       "      <td>0.340000</td>\n",
       "      <td>0.333300</td>\n",
       "      <td>0.480000</td>\n",
       "      <td>0.104500</td>\n",
       "      <td>4.000000</td>\n",
       "      <td>34.000000</td>\n",
       "      <td>40.000000</td>\n",
       "    </tr>\n",
       "    <tr>\n",
       "      <th>50%</th>\n",
       "      <td>8690.0000</td>\n",
       "      <td>3.000000</td>\n",
       "      <td>1.000000</td>\n",
       "      <td>7.000000</td>\n",
       "      <td>12.000000</td>\n",
       "      <td>0.000000</td>\n",
       "      <td>3.000000</td>\n",
       "      <td>1.000000</td>\n",
       "      <td>1.000000</td>\n",
       "      <td>0.500000</td>\n",
       "      <td>0.484800</td>\n",
       "      <td>0.630000</td>\n",
       "      <td>0.194000</td>\n",
       "      <td>17.000000</td>\n",
       "      <td>115.000000</td>\n",
       "      <td>142.000000</td>\n",
       "    </tr>\n",
       "    <tr>\n",
       "      <th>75%</th>\n",
       "      <td>13034.5000</td>\n",
       "      <td>3.000000</td>\n",
       "      <td>1.000000</td>\n",
       "      <td>10.000000</td>\n",
       "      <td>18.000000</td>\n",
       "      <td>0.000000</td>\n",
       "      <td>5.000000</td>\n",
       "      <td>1.000000</td>\n",
       "      <td>2.000000</td>\n",
       "      <td>0.660000</td>\n",
       "      <td>0.621200</td>\n",
       "      <td>0.780000</td>\n",
       "      <td>0.253700</td>\n",
       "      <td>48.000000</td>\n",
       "      <td>220.000000</td>\n",
       "      <td>281.000000</td>\n",
       "    </tr>\n",
       "    <tr>\n",
       "      <th>max</th>\n",
       "      <td>17379.0000</td>\n",
       "      <td>4.000000</td>\n",
       "      <td>1.000000</td>\n",
       "      <td>12.000000</td>\n",
       "      <td>23.000000</td>\n",
       "      <td>1.000000</td>\n",
       "      <td>6.000000</td>\n",
       "      <td>1.000000</td>\n",
       "      <td>4.000000</td>\n",
       "      <td>1.000000</td>\n",
       "      <td>1.000000</td>\n",
       "      <td>1.000000</td>\n",
       "      <td>0.850700</td>\n",
       "      <td>367.000000</td>\n",
       "      <td>886.000000</td>\n",
       "      <td>977.000000</td>\n",
       "    </tr>\n",
       "  </tbody>\n",
       "</table>\n",
       "</div>"
      ],
      "text/plain": [
       "          instant        season  ...    registered           cnt\n",
       "count  17379.0000  17379.000000  ...  17379.000000  17379.000000\n",
       "mean    8690.0000      2.501640  ...    153.786869    189.463088\n",
       "std     5017.0295      1.106918  ...    151.357286    181.387599\n",
       "min        1.0000      1.000000  ...      0.000000      1.000000\n",
       "25%     4345.5000      2.000000  ...     34.000000     40.000000\n",
       "50%     8690.0000      3.000000  ...    115.000000    142.000000\n",
       "75%    13034.5000      3.000000  ...    220.000000    281.000000\n",
       "max    17379.0000      4.000000  ...    886.000000    977.000000\n",
       "\n",
       "[8 rows x 16 columns]"
      ]
     },
     "execution_count": 6,
     "metadata": {
      "tags": []
     },
     "output_type": "execute_result"
    }
   ],
   "source": [
    "hour.describe()"
   ]
  },
  {
   "cell_type": "code",
   "execution_count": null,
   "metadata": {
    "colab": {
     "base_uri": "https://localhost:8080/",
     "height": 111
    },
    "colab_type": "code",
    "id": "71-11SaI4gZC",
    "outputId": "b40247d4-6777-4c8b-94df-4c9e21a70ec0"
   },
   "outputs": [
    {
     "data": {
      "text/html": [
       "<div>\n",
       "<style scoped>\n",
       "    .dataframe tbody tr th:only-of-type {\n",
       "        vertical-align: middle;\n",
       "    }\n",
       "\n",
       "    .dataframe tbody tr th {\n",
       "        vertical-align: top;\n",
       "    }\n",
       "\n",
       "    .dataframe thead th {\n",
       "        text-align: right;\n",
       "    }\n",
       "</style>\n",
       "<table border=\"1\" class=\"dataframe\">\n",
       "  <thead>\n",
       "    <tr style=\"text-align: right;\">\n",
       "      <th></th>\n",
       "      <th>instant</th>\n",
       "      <th>dteday</th>\n",
       "      <th>season</th>\n",
       "      <th>yr</th>\n",
       "      <th>mnth</th>\n",
       "      <th>hr</th>\n",
       "      <th>holiday</th>\n",
       "      <th>weekday</th>\n",
       "      <th>workingday</th>\n",
       "      <th>weathersit</th>\n",
       "      <th>temp</th>\n",
       "      <th>atemp</th>\n",
       "      <th>hum</th>\n",
       "      <th>windspeed</th>\n",
       "      <th>casual</th>\n",
       "      <th>registered</th>\n",
       "      <th>cnt</th>\n",
       "    </tr>\n",
       "  </thead>\n",
       "  <tbody>\n",
       "    <tr>\n",
       "      <th>0</th>\n",
       "      <td>1</td>\n",
       "      <td>2011-01-01</td>\n",
       "      <td>1</td>\n",
       "      <td>0</td>\n",
       "      <td>1</td>\n",
       "      <td>0</td>\n",
       "      <td>0</td>\n",
       "      <td>6</td>\n",
       "      <td>0</td>\n",
       "      <td>1</td>\n",
       "      <td>9.84</td>\n",
       "      <td>14.40</td>\n",
       "      <td>0.81</td>\n",
       "      <td>0.0</td>\n",
       "      <td>3</td>\n",
       "      <td>13</td>\n",
       "      <td>16</td>\n",
       "    </tr>\n",
       "    <tr>\n",
       "      <th>1</th>\n",
       "      <td>2</td>\n",
       "      <td>2011-01-01</td>\n",
       "      <td>1</td>\n",
       "      <td>0</td>\n",
       "      <td>1</td>\n",
       "      <td>1</td>\n",
       "      <td>0</td>\n",
       "      <td>6</td>\n",
       "      <td>0</td>\n",
       "      <td>1</td>\n",
       "      <td>9.02</td>\n",
       "      <td>13.64</td>\n",
       "      <td>0.80</td>\n",
       "      <td>0.0</td>\n",
       "      <td>8</td>\n",
       "      <td>32</td>\n",
       "      <td>40</td>\n",
       "    </tr>\n",
       "  </tbody>\n",
       "</table>\n",
       "</div>"
      ],
      "text/plain": [
       "   instant      dteday  season  yr  ...  windspeed  casual  registered  cnt\n",
       "0        1  2011-01-01       1   0  ...        0.0       3          13   16\n",
       "1        2  2011-01-01       1   0  ...        0.0       8          32   40\n",
       "\n",
       "[2 rows x 17 columns]"
      ]
     },
     "execution_count": 7,
     "metadata": {
      "tags": []
     },
     "output_type": "execute_result"
    }
   ],
   "source": [
    "# Convert temperature to celsius format\n",
    "\n",
    "hour['temp'] = hour['temp'].apply(lambda x: x*41)\n",
    "hour['atemp'] = round(hour['atemp'].apply(lambda x: x*50),2)\n",
    "\n",
    "hour.head(2)"
   ]
  },
  {
   "cell_type": "markdown",
   "metadata": {
    "colab_type": "text",
    "id": "TLUo0wRr4gZG"
   },
   "source": [
    "### Some Statistics\n",
    "\n",
    "Find out the maximum rental number per hour and when did that occured."
   ]
  },
  {
   "cell_type": "code",
   "execution_count": null,
   "metadata": {
    "colab": {
     "base_uri": "https://localhost:8080/",
     "height": 357
    },
    "colab_type": "code",
    "id": "7-3poS1E4gZH",
    "outputId": "ba71a38b-9d62-4d5b-f5fa-c3371b1b02b4"
   },
   "outputs": [
    {
     "name": "stdout",
     "output_type": "stream",
     "text": [
      "The max rental per hour was: 977 and it happened:\n",
      "--------------------------------------------------\n",
      "instant            14774\n",
      "dteday        2012-09-12\n",
      "season                 3\n",
      "yr                     1\n",
      "mnth                   9\n",
      "hr                    18\n",
      "holiday                0\n",
      "weekday                3\n",
      "workingday             1\n",
      "weathersit             1\n",
      "temp               27.06\n",
      "atemp              31.06\n",
      "hum                 0.44\n",
      "windspeed         0.2537\n",
      "casual                91\n",
      "registered           886\n",
      "cnt                  977\n",
      "Name: 14773, dtype: object\n"
     ]
    }
   ],
   "source": [
    "print('The max rental per hour was:', hour['cnt'].max(), 'and it happened:')\n",
    "print ('-' * 50)\n",
    "#hour[hour['cnt']==hour['cnt'].max()]\n",
    "print(hour.loc[hour['cnt'].idxmax()])"
   ]
  },
  {
   "cell_type": "markdown",
   "metadata": {
    "colab_type": "text",
    "id": "QloopDw04gZL"
   },
   "source": [
    "#### Counting the total bike rentals during that period we see that there were 3,292,679 rentals. That is impressive."
   ]
  },
  {
   "cell_type": "code",
   "execution_count": null,
   "metadata": {
    "colab": {
     "base_uri": "https://localhost:8080/",
     "height": 34
    },
    "colab_type": "code",
    "id": "CsgD3ML34gZL",
    "outputId": "8b780cc4-ca6c-4614-e3f1-70529910725d"
   },
   "outputs": [
    {
     "name": "stdout",
     "output_type": "stream",
     "text": [
      "Total count of bike rentals are : 3292679\n"
     ]
    }
   ],
   "source": [
    "print('Total count of bike rentals are :', hour['cnt'].sum())"
   ]
  },
  {
   "cell_type": "code",
   "execution_count": null,
   "metadata": {
    "colab": {
     "base_uri": "https://localhost:8080/",
     "height": 51
    },
    "colab_type": "code",
    "id": "xY-4eC3Z4gZP",
    "outputId": "a26197b8-836d-4398-b040-6ae5f40c9b3c"
   },
   "outputs": [
    {
     "name": "stdout",
     "output_type": "stream",
     "text": [
      "Total count of registered user rentals were : 2672662\n",
      "Bikes rented by registered users were: 81.17 %\n"
     ]
    }
   ],
   "source": [
    "# Let's see the registered user percentage renting.\n",
    "\n",
    "print('Total count of registered user rentals were :', hour['registered'].sum())\n",
    "print('Bikes rented by registered users were:',round(hour['registered'].sum()/hour['cnt'].sum()*100,2),'%')"
   ]
  },
  {
   "cell_type": "code",
   "execution_count": null,
   "metadata": {
    "colab": {
     "base_uri": "https://localhost:8080/",
     "height": 51
    },
    "colab_type": "code",
    "id": "CDY3ipdY4gZU",
    "outputId": "b16ca99f-9a66-4962-e6c7-cbf7db4a771d"
   },
   "outputs": [
    {
     "name": "stdout",
     "output_type": "stream",
     "text": [
      "Total count of non registered user rentals were : 620017\n",
      "Bikes rented by non registered users were: 18.83 %\n"
     ]
    }
   ],
   "source": [
    "# Same way about non registered users percentage.\n",
    "\n",
    "print('Total count of non registered user rentals were :', hour['casual'].sum())\n",
    "print('Bikes rented by non registered users were:',round(hour['casual'].sum()/hour['cnt'].sum()*100,2),'%')"
   ]
  },
  {
   "cell_type": "code",
   "execution_count": null,
   "metadata": {
    "colab": {
     "base_uri": "https://localhost:8080/",
     "height": 34
    },
    "colab_type": "code",
    "id": "039u6bNZ4gZX",
    "outputId": "2ad5491a-045b-4509-efb5-eecadc423da8"
   },
   "outputs": [
    {
     "name": "stdout",
     "output_type": "stream",
     "text": [
      "Mean value of bike rentals per hour is: 189.46308763450142\n"
     ]
    }
   ],
   "source": [
    "# Let's see the mean value of bike rental per hour\n",
    "\n",
    "print('Mean value of bike rentals per hour is:', hour['cnt'].mean())"
   ]
  },
  {
   "cell_type": "markdown",
   "metadata": {
    "colab_type": "text",
    "id": "0SEQ1Cxo4gZd"
   },
   "source": [
    "### Great. \n",
    "Knowing the bike rentals per hour we can count bike rentals per minute.So, every minute at least 3 people were renting a bicycle to roam!! Huge number!"
   ]
  },
  {
   "cell_type": "code",
   "execution_count": null,
   "metadata": {
    "colab": {
     "base_uri": "https://localhost:8080/",
     "height": 34
    },
    "colab_type": "code",
    "id": "czRLVnFZ4gZe",
    "outputId": "49575fab-0517-4992-8716-d42523271c1b"
   },
   "outputs": [
    {
     "name": "stdout",
     "output_type": "stream",
     "text": [
      "Bike rentals per minute:  3.1577181272416905\n"
     ]
    }
   ],
   "source": [
    "print('Bike rentals per minute: ', hour['cnt'].mean()/60)"
   ]
  },
  {
   "cell_type": "markdown",
   "metadata": {
    "colab_type": "text",
    "id": "I7ng3csw4gZr"
   },
   "source": [
    "### Some more Digging\n",
    "\n",
    "Let's get an idea about the weather during the instances. Most of the time that data were recorded, weather was clear with few clouds. Only at 3 instances weather was really bad."
   ]
  },
  {
   "cell_type": "code",
   "execution_count": null,
   "metadata": {
    "colab": {
     "base_uri": "https://localhost:8080/",
     "height": 119
    },
    "colab_type": "code",
    "id": "u6JZ4G-x4gZs",
    "outputId": "f489a673-f94a-44da-b2ea-779cfc28c17f"
   },
   "outputs": [
    {
     "data": {
      "text/plain": [
       "Weather Conditions\n",
       "Clear - Few Clouds           11413\n",
       "Mist - Cloudy                 4544\n",
       "Light Rain - Snow             1419\n",
       "Heavy Rain - Thunderstorm        3\n",
       "dtype: int64"
      ]
     },
     "execution_count": 14,
     "metadata": {
      "tags": []
     },
     "output_type": "execute_result"
    }
   ],
   "source": [
    "weather_dict = {1: 'Clear - Few Clouds', 2: 'Mist - Cloudy', 3: 'Light Rain - Snow', 4: 'Heavy Rain - Thunderstorm'}\n",
    "hour.groupby(['weathersit']).size().rename(index=weather_dict).rename_axis(\"Weather Conditions\")"
   ]
  },
  {
   "cell_type": "markdown",
   "metadata": {
    "colab_type": "text",
    "id": "aH6s3K4l4gZw"
   },
   "source": [
    "Bike rental per hour and percentage of the the total number. Five in the afternoon is the cler winner here."
   ]
  },
  {
   "cell_type": "code",
   "execution_count": null,
   "metadata": {
    "colab": {
     "base_uri": "https://localhost:8080/",
     "height": 459
    },
    "colab_type": "code",
    "id": "ZzH7GKhc4gZw",
    "outputId": "329bf864-da1b-4b9d-8986-86797b7246ca"
   },
   "outputs": [
    {
     "name": "stdout",
     "output_type": "stream",
     "text": [
      "       cnt  Percentage\n",
      "hr                    \n",
      "17  336860        0.10\n",
      "18  309772        0.09\n",
      "8   261001        0.08\n",
      "16  227748        0.07\n",
      "19  226789        0.07\n",
      "13  184919        0.06\n",
      "12  184414        0.06\n",
      "15  183149        0.06\n",
      "14  175652        0.05\n",
      "20  164550        0.05\n",
      "9   159438        0.05\n",
      "7   154171        0.05\n",
      "11  151320        0.05\n",
      "10  126257        0.04\n",
      "21  125445        0.04\n",
      "22   95612        0.03\n",
      "23   63941        0.02\n",
      "6    55132        0.02\n",
      "0    39130        0.01\n",
      "1    24164        0.01\n",
      "2    16352        0.00\n",
      "5    14261        0.00\n",
      "3     8174        0.00\n",
      "4     4428        0.00\n"
     ]
    }
   ],
   "source": [
    "c = hour[[\"hr\", \"cnt\"]].groupby(['hr']).sum().sort_values(by='cnt',ascending=False)\n",
    "c['Percentage']= round(c['cnt']/c['cnt'].sum(),2)\n",
    "\n",
    "print(c)"
   ]
  },
  {
   "cell_type": "markdown",
   "metadata": {
    "colab_type": "text",
    "id": "mru8iw9m4gZ0"
   },
   "source": [
    "Every afternoon during 17:00-18:00 there were average 461 bike rentals!! The least bike rentals where are 4 in the morning."
   ]
  },
  {
   "cell_type": "code",
   "execution_count": null,
   "metadata": {
    "colab": {
     "base_uri": "https://localhost:8080/",
     "height": 459
    },
    "colab_type": "code",
    "id": "4NkUFH4t4gZ2",
    "outputId": "22cc7a6b-823a-4e0c-f7fe-0169f9e5f511"
   },
   "outputs": [
    {
     "name": "stdout",
     "output_type": "stream",
     "text": [
      "       cnt\n",
      "hr        \n",
      "17  461.45\n",
      "18  425.51\n",
      "8   359.01\n",
      "16  311.98\n",
      "19  311.52\n",
      "13  253.66\n",
      "12  253.32\n",
      "15  251.23\n",
      "14  240.95\n",
      "20  226.03\n",
      "9   219.31\n",
      "7   212.06\n",
      "11  208.14\n",
      "10  173.67\n",
      "21  172.31\n",
      "22  131.34\n",
      "23   87.83\n",
      "6    76.04\n",
      "0    53.90\n",
      "1    33.38\n",
      "2    22.87\n",
      "5    19.89\n",
      "3    11.73\n",
      "4     6.35\n"
     ]
    }
   ],
   "source": [
    "d = round(hour[[\"hr\", \"cnt\"]].groupby(['hr']).mean().sort_values(by='cnt',ascending=False),2)\n",
    "print(d)"
   ]
  },
  {
   "cell_type": "code",
   "execution_count": null,
   "metadata": {
    "colab": {
     "base_uri": "https://localhost:8080/",
     "height": 204
    },
    "colab_type": "code",
    "id": "rgKgCBWh4gZ7",
    "outputId": "b371fec2-56f6-4b59-cc79-5f5f39097a95"
   },
   "outputs": [
    {
     "data": {
      "text/html": [
       "<div>\n",
       "<style scoped>\n",
       "    .dataframe tbody tr th:only-of-type {\n",
       "        vertical-align: middle;\n",
       "    }\n",
       "\n",
       "    .dataframe tbody tr th {\n",
       "        vertical-align: top;\n",
       "    }\n",
       "\n",
       "    .dataframe thead th {\n",
       "        text-align: right;\n",
       "    }\n",
       "</style>\n",
       "<table border=\"1\" class=\"dataframe\">\n",
       "  <thead>\n",
       "    <tr style=\"text-align: right;\">\n",
       "      <th></th>\n",
       "      <th>cnt</th>\n",
       "    </tr>\n",
       "    <tr>\n",
       "      <th>Season</th>\n",
       "      <th></th>\n",
       "    </tr>\n",
       "  </thead>\n",
       "  <tbody>\n",
       "    <tr>\n",
       "      <th>Spring</th>\n",
       "      <td>471348</td>\n",
       "    </tr>\n",
       "    <tr>\n",
       "      <th>Summer</th>\n",
       "      <td>918589</td>\n",
       "    </tr>\n",
       "    <tr>\n",
       "      <th>Autumn</th>\n",
       "      <td>1061129</td>\n",
       "    </tr>\n",
       "    <tr>\n",
       "      <th>Winter</th>\n",
       "      <td>841613</td>\n",
       "    </tr>\n",
       "  </tbody>\n",
       "</table>\n",
       "</div>"
      ],
      "text/plain": [
       "            cnt\n",
       "Season         \n",
       "Spring   471348\n",
       "Summer   918589\n",
       "Autumn  1061129\n",
       "Winter   841613"
      ]
     },
     "execution_count": 17,
     "metadata": {
      "tags": []
     },
     "output_type": "execute_result"
    }
   ],
   "source": [
    "# Let's group by Season. Autumn is the most favorable season for the bikers.\n",
    "\n",
    "season_dict = {1: 'Spring', 2: 'Summer', 3: 'Autumn', 4: 'Winter'}\n",
    "hour[[\"season\", \"cnt\"]].groupby(['season']).sum().rename(index=season_dict).rename_axis(\"Season\")"
   ]
  },
  {
   "cell_type": "code",
   "execution_count": null,
   "metadata": {
    "colab": {
     "base_uri": "https://localhost:8080/",
     "height": 142
    },
    "colab_type": "code",
    "id": "EkfRkZ8P4gZ9",
    "outputId": "409c635d-128c-4812-8977-5e5c6f32d339"
   },
   "outputs": [
    {
     "data": {
      "text/html": [
       "<div>\n",
       "<style scoped>\n",
       "    .dataframe tbody tr th:only-of-type {\n",
       "        vertical-align: middle;\n",
       "    }\n",
       "\n",
       "    .dataframe tbody tr th {\n",
       "        vertical-align: top;\n",
       "    }\n",
       "\n",
       "    .dataframe thead th {\n",
       "        text-align: right;\n",
       "    }\n",
       "</style>\n",
       "<table border=\"1\" class=\"dataframe\">\n",
       "  <thead>\n",
       "    <tr style=\"text-align: right;\">\n",
       "      <th></th>\n",
       "      <th>cnt</th>\n",
       "    </tr>\n",
       "    <tr>\n",
       "      <th>Year</th>\n",
       "      <th></th>\n",
       "    </tr>\n",
       "  </thead>\n",
       "  <tbody>\n",
       "    <tr>\n",
       "      <th>2011</th>\n",
       "      <td>1243103</td>\n",
       "    </tr>\n",
       "    <tr>\n",
       "      <th>2012</th>\n",
       "      <td>2049576</td>\n",
       "    </tr>\n",
       "  </tbody>\n",
       "</table>\n",
       "</div>"
      ],
      "text/plain": [
       "          cnt\n",
       "Year         \n",
       "2011  1243103\n",
       "2012  2049576"
      ]
     },
     "execution_count": 18,
     "metadata": {
      "tags": []
     },
     "output_type": "execute_result"
    }
   ],
   "source": [
    "# Grouping by Year\n",
    "\n",
    "year_dict = {0: '2011', 1: '2012'}\n",
    "hour[[\"yr\", \"cnt\"]].groupby(['yr']).sum().rename(index=year_dict).rename_axis(\"Year\")"
   ]
  },
  {
   "cell_type": "code",
   "execution_count": null,
   "metadata": {
    "colab": {
     "base_uri": "https://localhost:8080/",
     "height": 34
    },
    "colab_type": "code",
    "id": "R8eUaIKN4gaA",
    "outputId": "3533b8c2-3fee-482f-e160-8ce681a1d8ae"
   },
   "outputs": [
    {
     "name": "stdout",
     "output_type": "stream",
     "text": [
      "Biking rental was up by 64.88 % from 2011 to 2012\n"
     ]
    }
   ],
   "source": [
    "print('Biking rental was up by',round((100 * (2049576 - 1243103) / 1243103),2),'% from 2011 to 2012')"
   ]
  },
  {
   "cell_type": "code",
   "execution_count": null,
   "metadata": {
    "colab": {
     "base_uri": "https://localhost:8080/",
     "height": 452
    },
    "colab_type": "code",
    "id": "6TvYzkRw4gaC",
    "outputId": "0b276779-336e-436a-b529-4999aa798e11"
   },
   "outputs": [
    {
     "data": {
      "text/html": [
       "<div>\n",
       "<style scoped>\n",
       "    .dataframe tbody tr th:only-of-type {\n",
       "        vertical-align: middle;\n",
       "    }\n",
       "\n",
       "    .dataframe tbody tr th {\n",
       "        vertical-align: top;\n",
       "    }\n",
       "\n",
       "    .dataframe thead th {\n",
       "        text-align: right;\n",
       "    }\n",
       "</style>\n",
       "<table border=\"1\" class=\"dataframe\">\n",
       "  <thead>\n",
       "    <tr style=\"text-align: right;\">\n",
       "      <th></th>\n",
       "      <th>cnt</th>\n",
       "    </tr>\n",
       "    <tr>\n",
       "      <th>Month</th>\n",
       "      <th></th>\n",
       "    </tr>\n",
       "  </thead>\n",
       "  <tbody>\n",
       "    <tr>\n",
       "      <th>January</th>\n",
       "      <td>134933</td>\n",
       "    </tr>\n",
       "    <tr>\n",
       "      <th>February</th>\n",
       "      <td>151352</td>\n",
       "    </tr>\n",
       "    <tr>\n",
       "      <th>March</th>\n",
       "      <td>228920</td>\n",
       "    </tr>\n",
       "    <tr>\n",
       "      <th>April</th>\n",
       "      <td>269094</td>\n",
       "    </tr>\n",
       "    <tr>\n",
       "      <th>May</th>\n",
       "      <td>331686</td>\n",
       "    </tr>\n",
       "    <tr>\n",
       "      <th>June</th>\n",
       "      <td>346342</td>\n",
       "    </tr>\n",
       "    <tr>\n",
       "      <th>July</th>\n",
       "      <td>344948</td>\n",
       "    </tr>\n",
       "    <tr>\n",
       "      <th>August</th>\n",
       "      <td>351194</td>\n",
       "    </tr>\n",
       "    <tr>\n",
       "      <th>September</th>\n",
       "      <td>345991</td>\n",
       "    </tr>\n",
       "    <tr>\n",
       "      <th>October</th>\n",
       "      <td>322352</td>\n",
       "    </tr>\n",
       "    <tr>\n",
       "      <th>November</th>\n",
       "      <td>254831</td>\n",
       "    </tr>\n",
       "    <tr>\n",
       "      <th>December</th>\n",
       "      <td>211036</td>\n",
       "    </tr>\n",
       "  </tbody>\n",
       "</table>\n",
       "</div>"
      ],
      "text/plain": [
       "              cnt\n",
       "Month            \n",
       "January    134933\n",
       "February   151352\n",
       "March      228920\n",
       "April      269094\n",
       "May        331686\n",
       "June       346342\n",
       "July       344948\n",
       "August     351194\n",
       "September  345991\n",
       "October    322352\n",
       "November   254831\n",
       "December   211036"
      ]
     },
     "execution_count": 20,
     "metadata": {
      "tags": []
     },
     "output_type": "execute_result"
    }
   ],
   "source": [
    "month_dict = {1: 'January', 2: 'February', 3: 'March', 4: 'April', 5: 'May', 6: 'June',\n",
    "               7: 'July', 8: 'August', 9: 'September', 10: 'October', 11: 'November', 12: 'December'}\n",
    "hour[[\"mnth\", \"cnt\"]].groupby(['mnth']).sum().rename(index=month_dict).rename_axis(\"Month\")"
   ]
  },
  {
   "cell_type": "markdown",
   "metadata": {
    "colab_type": "text",
    "id": "sgyxcS-g4gaE"
   },
   "source": [
    "Saturday is the day that most people rented a bicycle."
   ]
  },
  {
   "cell_type": "code",
   "execution_count": null,
   "metadata": {
    "colab": {
     "base_uri": "https://localhost:8080/",
     "height": 297
    },
    "colab_type": "code",
    "id": "TEhDye9c4gaE",
    "outputId": "000a10f6-54cf-4639-e7a4-99302f42ecf4"
   },
   "outputs": [
    {
     "data": {
      "text/html": [
       "<div>\n",
       "<style scoped>\n",
       "    .dataframe tbody tr th:only-of-type {\n",
       "        vertical-align: middle;\n",
       "    }\n",
       "\n",
       "    .dataframe tbody tr th {\n",
       "        vertical-align: top;\n",
       "    }\n",
       "\n",
       "    .dataframe thead th {\n",
       "        text-align: right;\n",
       "    }\n",
       "</style>\n",
       "<table border=\"1\" class=\"dataframe\">\n",
       "  <thead>\n",
       "    <tr style=\"text-align: right;\">\n",
       "      <th></th>\n",
       "      <th>cnt</th>\n",
       "    </tr>\n",
       "    <tr>\n",
       "      <th>Weekday</th>\n",
       "      <th></th>\n",
       "    </tr>\n",
       "  </thead>\n",
       "  <tbody>\n",
       "    <tr>\n",
       "      <th>Monday</th>\n",
       "      <td>444027</td>\n",
       "    </tr>\n",
       "    <tr>\n",
       "      <th>Tuesday</th>\n",
       "      <td>455503</td>\n",
       "    </tr>\n",
       "    <tr>\n",
       "      <th>Wednesday</th>\n",
       "      <td>469109</td>\n",
       "    </tr>\n",
       "    <tr>\n",
       "      <th>Thursday</th>\n",
       "      <td>473048</td>\n",
       "    </tr>\n",
       "    <tr>\n",
       "      <th>Friday</th>\n",
       "      <td>485395</td>\n",
       "    </tr>\n",
       "    <tr>\n",
       "      <th>Saturday</th>\n",
       "      <td>487790</td>\n",
       "    </tr>\n",
       "    <tr>\n",
       "      <th>Sunday</th>\n",
       "      <td>477807</td>\n",
       "    </tr>\n",
       "  </tbody>\n",
       "</table>\n",
       "</div>"
      ],
      "text/plain": [
       "              cnt\n",
       "Weekday          \n",
       "Monday     444027\n",
       "Tuesday    455503\n",
       "Wednesday  469109\n",
       "Thursday   473048\n",
       "Friday     485395\n",
       "Saturday   487790\n",
       "Sunday     477807"
      ]
     },
     "execution_count": 21,
     "metadata": {
      "tags": []
     },
     "output_type": "execute_result"
    }
   ],
   "source": [
    "day_dict = {0: 'Monday', 1: 'Tuesday', 2: 'Wednesday', 3: 'Thursday', 4: 'Friday', 5: 'Saturday',6: 'Sunday'}\n",
    "hour[[\"weekday\", \"cnt\"]].groupby(['weekday']).sum().rename(index=day_dict).rename_axis(\"Weekday\")"
   ]
  },
  {
   "cell_type": "markdown",
   "metadata": {
    "colab_type": "text",
    "id": "90wYe5Fp4gaG"
   },
   "source": [
    "### Exploratory Data Analysis\n",
    "\n",
    "We see clearly here that Summer and Fall are the most preferred seasons for bike rentals."
   ]
  },
  {
   "cell_type": "code",
   "execution_count": null,
   "metadata": {
    "colab": {
     "base_uri": "https://localhost:8080/",
     "height": 515
    },
    "colab_type": "code",
    "id": "66frfvMA4gaH",
    "outputId": "21963faf-8aad-4e38-860b-785bc4b9c0d5"
   },
   "outputs": [
    {
     "data": {
      "image/png": "[encoded data removed]",
      "text/plain": [
       "<Figure size 864x576 with 1 Axes>"
      ]
     },
     "metadata": {
      "tags": []
     },
     "output_type": "display_data"
    }
   ],
   "source": [
    "#darkgrid, whitegrid, dark, white, ticks\n",
    "sns.set_style(\"darkgrid\")\n",
    "#paper, notebook, talk, poster\n",
    "sns.set_context(\"notebook\", font_scale=1.5)\n",
    "plt.figure(figsize=(12,8))\n",
    "ax = sns.boxplot(x=\"season\", y=\"cnt\", data=hour, width=.55, whis=.5, saturation=.6, fliersize=2,\n",
    "             notch=False, palette='viridis')\n",
    "plt.xticks([0, 1, 2, 3], ['Spring', 'Summer', 'Autumn', 'Winter'])\n",
    "ax.set_xlabel(\"Season\")\n",
    "ax.set_ylabel(\"Total Rentals\")\n",
    "plt.show()"
   ]
  },
  {
   "cell_type": "markdown",
   "metadata": {
    "colab_type": "text",
    "id": "LwnAS5ER4gaN"
   },
   "source": [
    "Similarly we get an idea about rentals per day."
   ]
  },
  {
   "cell_type": "code",
   "execution_count": null,
   "metadata": {
    "colab": {
     "base_uri": "https://localhost:8080/",
     "height": 515
    },
    "colab_type": "code",
    "id": "snNy3Yey4gaO",
    "outputId": "f68fb258-aba8-4c97-e7da-d87178be4377"
   },
   "outputs": [
    {
     "data": {
      "image/png": "[encoded data removed]",
      "text/plain": [
       "<Figure size 864x576 with 1 Axes>"
      ]
     },
     "metadata": {
      "tags": []
     },
     "output_type": "display_data"
    }
   ],
   "source": [
    "#darkgrid, whitegrid, dark, white, ticks\n",
    "sns.set_style(\"darkgrid\")\n",
    "#paper, notebook, talk, poster\n",
    "sns.set_context(\"notebook\", font_scale=1.5)\n",
    "plt.figure(figsize=(12,8))\n",
    "ax = sns.boxplot(x=\"weekday\", y=\"cnt\", data=hour, width=.55, whis=.5, saturation=.6, fliersize=2,\n",
    "             notch=False, palette='viridis')\n",
    "ax.set_xlabel(\"Weekday\")\n",
    "ax.set_ylabel(\"Total Rentals\")\n",
    "plt.xticks([0, 1, 2, 3, 4, 5, 6], ['Monday', 'Tuesday', 'Wednesday', 'Thursday', 'Friday', 'Saturday', 'Sunday'])\n",
    "plt.show()"
   ]
  },
  {
   "cell_type": "markdown",
   "metadata": {
    "colab_type": "text",
    "id": "YEihiWfx4gaR"
   },
   "source": [
    "We can see the clear difference between 2011 and 2012. "
   ]
  },
  {
   "cell_type": "code",
   "execution_count": null,
   "metadata": {
    "colab": {
     "base_uri": "https://localhost:8080/",
     "height": 515
    },
    "colab_type": "code",
    "id": "EkOT58r64gaS",
    "outputId": "f277b63f-ce0e-4f44-e44f-fa77158e8727"
   },
   "outputs": [
    {
     "data": {
      "image/png": "[encoded data removed]",
      "text/plain": [
       "<Figure size 864x576 with 1 Axes>"
      ]
     },
     "metadata": {
      "tags": []
     },
     "output_type": "display_data"
    }
   ],
   "source": [
    "#darkgrid, whitegrid, dark, white, ticks\n",
    "sns.set_style(\"darkgrid\")\n",
    "#paper, notebook, talk, poster\n",
    "sns.set_context(\"notebook\", font_scale=1.5)\n",
    "plt.figure(figsize=(12,8))\n",
    "ax = sns.boxplot(x=\"yr\", y=\"cnt\", data=hour, width=.15, whis=.5, saturation=.6, fliersize=2,\n",
    "             notch=False, palette='viridis')\n",
    "plt.xticks([0, 1], ['2011', '2012'])\n",
    "ax.set_xlabel(\"Year\")\n",
    "ax.set_ylabel(\"Total Rentals\")\n",
    "plt.show()"
   ]
  },
  {
   "cell_type": "code",
   "execution_count": null,
   "metadata": {
    "colab": {
     "base_uri": "https://localhost:8080/",
     "height": 515
    },
    "colab_type": "code",
    "id": "qEy4Gxqq4gaV",
    "outputId": "a191e56f-879a-405a-a022-d57ff7e83f9d"
   },
   "outputs": [
    {
     "data": {
      "image/png": "[encoded data removed]",
      "text/plain": [
       "<Figure size 864x576 with 1 Axes>"
      ]
     },
     "metadata": {
      "tags": []
     },
     "output_type": "display_data"
    }
   ],
   "source": [
    "#darkgrid, whitegrid, dark, white, ticks\n",
    "sns.set_style(\"darkgrid\")\n",
    "#paper, notebook, talk, poster\n",
    "sns.set_context(\"notebook\", font_scale=1.5)\n",
    "plt.figure(figsize=(12,8))\n",
    "ax = sns.boxplot(x=\"mnth\", y=\"cnt\", data=hour, width=.55, whis=.5, saturation=.6, fliersize=2,\n",
    "             notch=False, palette='viridis')\n",
    "ax.set_xlabel(\"Month\")\n",
    "ax.set_ylabel(\"Total Rentals\")\n",
    "plt.xticks([0, 1, 2, 3, 4, 5, 6, 7,8,9,10,11,12], ['Jan', 'Feb', 'Mar', 'Apr', 'May', 'Jun', 'Jul', 'Aug','Sep','Oct','Nov', 'Dec'])\n",
    "plt.show()"
   ]
  },
  {
   "cell_type": "markdown",
   "metadata": {
    "colab_type": "text",
    "id": "jNcIatGo4gaa"
   },
   "source": [
    "Most of the bikes are rented at 8 in the morning and 5-6 on the evening. Probably because of the working hours. Some people seem to prefer bike for going & leaving their jobs xD."
   ]
  },
  {
   "cell_type": "code",
   "execution_count": null,
   "metadata": {
    "colab": {
     "base_uri": "https://localhost:8080/",
     "height": 515
    },
    "colab_type": "code",
    "id": "26Wg7GWe4gab",
    "outputId": "ad6ec789-c202-4d40-b06b-0a7e0430a2f3"
   },
   "outputs": [
    {
     "data": {
      "image/png": "[encoded data removed]",
      "text/plain": [
       "<Figure size 1080x576 with 1 Axes>"
      ]
     },
     "metadata": {
      "tags": []
     },
     "output_type": "display_data"
    }
   ],
   "source": [
    "#darkgrid, whitegrid, dark, white, ticks\n",
    "sns.set_style(\"darkgrid\")\n",
    "#paper, notebook, talk, poster\n",
    "sns.set_context(\"notebook\", font_scale=1.5)\n",
    "plt.figure(figsize=(15,8))\n",
    "sns.boxplot(x=\"hr\", y=\"cnt\", data=hour,palette='rainbow')\n",
    "plt.show()"
   ]
  },
  {
   "cell_type": "code",
   "execution_count": null,
   "metadata": {
    "colab": {
     "base_uri": "https://localhost:8080/",
     "height": 173
    },
    "colab_type": "code",
    "id": "D4JKtDue4gae",
    "outputId": "08e2eaf9-10ef-43ce-fde8-f90908672466"
   },
   "outputs": [
    {
     "data": {
      "text/html": [
       "<div>\n",
       "<style scoped>\n",
       "    .dataframe tbody tr th:only-of-type {\n",
       "        vertical-align: middle;\n",
       "    }\n",
       "\n",
       "    .dataframe tbody tr th {\n",
       "        vertical-align: top;\n",
       "    }\n",
       "\n",
       "    .dataframe thead th {\n",
       "        text-align: right;\n",
       "    }\n",
       "</style>\n",
       "<table border=\"1\" class=\"dataframe\">\n",
       "  <thead>\n",
       "    <tr style=\"text-align: right;\">\n",
       "      <th></th>\n",
       "      <th>variable</th>\n",
       "      <th>value</th>\n",
       "    </tr>\n",
       "  </thead>\n",
       "  <tbody>\n",
       "    <tr>\n",
       "      <th>34754</th>\n",
       "      <td>registered</td>\n",
       "      <td>81</td>\n",
       "    </tr>\n",
       "    <tr>\n",
       "      <th>34755</th>\n",
       "      <td>registered</td>\n",
       "      <td>83</td>\n",
       "    </tr>\n",
       "    <tr>\n",
       "      <th>34756</th>\n",
       "      <td>registered</td>\n",
       "      <td>48</td>\n",
       "    </tr>\n",
       "    <tr>\n",
       "      <th>34757</th>\n",
       "      <td>registered</td>\n",
       "      <td>37</td>\n",
       "    </tr>\n",
       "  </tbody>\n",
       "</table>\n",
       "</div>"
      ],
      "text/plain": [
       "         variable  value\n",
       "34754  registered     81\n",
       "34755  registered     83\n",
       "34756  registered     48\n",
       "34757  registered     37"
      ]
     },
     "execution_count": 27,
     "metadata": {
      "tags": []
     },
     "output_type": "execute_result"
    }
   ],
   "source": [
    "melted = pd.melt(hour, value_vars=['casual','registered'])\n",
    "#melted.head(4)\n",
    "melted.tail(4)"
   ]
  },
  {
   "cell_type": "code",
   "execution_count": null,
   "metadata": {
    "colab": {
     "base_uri": "https://localhost:8080/",
     "height": 515
    },
    "colab_type": "code",
    "id": "Dxp3p6Cc4gag",
    "outputId": "0463c913-2129-4c3d-d641-1fe1f5caf324"
   },
   "outputs": [
    {
     "data": {
      "image/png": "[encoded data removed]",
      "text/plain": [
       "<Figure size 864x576 with 1 Axes>"
      ]
     },
     "metadata": {
      "tags": []
     },
     "output_type": "display_data"
    }
   ],
   "source": [
    "#darkgrid, whitegrid, dark, white, ticks\n",
    "sns.set_style(\"darkgrid\")\n",
    "#paper, notebook, talk, poster\n",
    "sns.set_context(\"notebook\", font_scale=1.5)\n",
    "plt.figure(figsize=(12,8))\n",
    "ax = sns.boxplot(x=\"variable\", y=\"value\", data=melted, width=.15, whis=.5, saturation=.6, fliersize=2,\n",
    "             notch=False, palette='viridis')\n",
    "ax.set_xlabel(\"Month\")\n",
    "ax.set_ylabel(\"Total Rentals\")\n",
    "#plt.xticks([0, 1, 2, 3, 4, 5, 6, 7,8,9,10,11,12], ['Jan', 'Feb', 'Mar', 'Apr', 'May', 'Jun', 'Jul', 'Aug','Sep','Oct','Nov', 'Dec'])\n",
    "plt.show()"
   ]
  },
  {
   "cell_type": "markdown",
   "metadata": {
    "colab_type": "text",
    "id": "MnN-msOb4gar"
   },
   "source": [
    "Using a distplot we see that most of bike rental instances per hour are between 0 and 200."
   ]
  },
  {
   "cell_type": "code",
   "execution_count": null,
   "metadata": {
    "colab": {
     "base_uri": "https://localhost:8080/",
     "height": 502
    },
    "colab_type": "code",
    "id": "25S1msuY4gar",
    "outputId": "e1cf128a-0e0b-4acf-c932-38007353e785"
   },
   "outputs": [
    {
     "data": {
      "image/png": "[encoded data removed]",
      "text/plain": [
       "<Figure size 864x576 with 1 Axes>"
      ]
     },
     "metadata": {
      "tags": []
     },
     "output_type": "display_data"
    }
   ],
   "source": [
    "#darkgrid, whitegrid, dark, white, ticks\n",
    "sns.set_style(\"dark\")\n",
    "plt.figure(figsize=(12,8))\n",
    "#paper, notebook, talk, poster\n",
    "sns.set_context('notebook')\n",
    "plt.xlim(0, 980)\n",
    "plt.xticks(np.arange(0, 980, 50))\n",
    "x = hour['cnt']\n",
    "ax = sns.distplot(x, kde=False, bins=40)\n",
    "ax.set_xlabel(\"Bike Rentals\")\n",
    "ax.set_ylabel(\"Total Instances\")\n",
    "plt.show()"
   ]
  },
  {
   "cell_type": "markdown",
   "metadata": {
    "colab_type": "text",
    "id": "cDFohvn-4gav"
   },
   "source": [
    "#### Bike rentals according to temperature."
   ]
  },
  {
   "cell_type": "code",
   "execution_count": null,
   "metadata": {
    "colab": {
     "base_uri": "https://localhost:8080/",
     "height": 502
    },
    "colab_type": "code",
    "id": "Qcd9c_qk4gav",
    "outputId": "740e15ce-519c-4bbb-a18d-b8a951776638"
   },
   "outputs": [
    {
     "data": {
      "image/png": "[encoded data removed]",
      "text/plain": [
       "<Figure size 864x576 with 1 Axes>"
      ]
     },
     "metadata": {
      "tags": []
     },
     "output_type": "display_data"
    }
   ],
   "source": [
    "#darkgrid, whitegrid, dark, white, ticks\n",
    "sns.set_style(\"dark\")\n",
    "plt.figure(figsize=(12,8))\n",
    "#paper, notebook, talk, poster\n",
    "sns.set_context('notebook')\n",
    "plt.xlim(0, 46)\n",
    "plt.xticks(np.arange(0, 46, 2))\n",
    "bins = np.arange(0, 50, 1)\n",
    "x = hour['temp']\n",
    "ax = sns.distplot(x, kde=False, bins=bins)\n",
    "ax.set_xlabel(\"Temperature\")\n",
    "ax.set_ylabel(\"Total Instances\")\n",
    "plt.show()"
   ]
  }
 ],
 "metadata": {
  "colab": {
   "include_colab_link": true,
   "name": "Bike Rentals.ipynb",
   "provenance": []
  },
  "kernel_info": {
   "name": "python3"
  },
  "kernelspec": {
   "display_name": "Python 3",
   "language": "python",
   "name": "python3"
  },
  "language_info": {
   "codemirror_mode": {
    "name": "ipython",
    "version": 3
   },
   "file_extension": ".py",
   "mimetype": "text/x-python",
   "name": "python",
   "nbconvert_exporter": "python",
   "pygments_lexer": "ipython3",
   "version": "3.7.9"
  },
  "nteract": {
   "version": "0.12.3"
  }
 },
 "nbformat": 4,
 "nbformat_minor": 4
}
