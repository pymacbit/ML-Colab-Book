{
  "nbformat": 4,
  "nbformat_minor": 0,
  "metadata": {
    "colab": {
      "name": "genralization.ipynb",
      "provenance": [],
      "collapsed_sections": [],
      "authorship_tag": "ABX9TyOgSP9cUt/1joMIeTo9b0Ry",
      "include_colab_link": true
    },
    "kernelspec": {
      "name": "python3",
      "display_name": "Python 3"
    },
    "language_info": {
      "name": "python"
    }
  },
  "cells": [
    {
      "cell_type": "markdown",
      "metadata": {
        "id": "view-in-github",
        "colab_type": "text"
      },
      "source": [
        "<a href=\"https://colab.research.google.com/github/pymacbit/ML-Colab-Book/blob/master/genralization.ipynb\" target=\"_parent\"><img src=\"https://colab.research.google.com/assets/colab-badge.svg\" alt=\"Open In Colab\"/></a>"
      ]
    },
    {
      "cell_type": "code",
      "metadata": {
        "id": "nRuEwNFqX8Lx"
      },
      "source": [
        "from sklearn.datasets import load_iris\n",
        "iris = load_iris()"
      ],
      "execution_count": null,
      "outputs": []
    },
    {
      "cell_type": "code",
      "metadata": {
        "id": "Ciepl1UXYAsm"
      },
      "source": [
        "X = iris.data\n",
        "y = iris.target"
      ],
      "execution_count": null,
      "outputs": []
    },
    {
      "cell_type": "code",
      "metadata": {
        "colab": {
          "base_uri": "https://localhost:8080/"
        },
        "id": "ZHpoomK9Yxom",
        "outputId": "2e7b9132-acf7-4ea5-caaa-28e5bc668a5c"
      },
      "source": [
        "X.shape, y.shape"
      ],
      "execution_count": null,
      "outputs": [
        {
          "output_type": "execute_result",
          "data": {
            "text/plain": [
              "((150, 4), (150,))"
            ]
          },
          "metadata": {
            "tags": []
          },
          "execution_count": 5
        }
      ]
    },
    {
      "cell_type": "code",
      "metadata": {
        "id": "lrmKKy5LZSbb"
      },
      "source": [
        "\n",
        "# importing libraires\n",
        "import pandas as pd\n",
        "import numpy as np\n",
        "from sklearn import datasets\n",
        "from sklearn.model_selection import train_test_split\n",
        "from sklearn.svm import SVC\n",
        "from sklearn.metrics import classification_report"
      ],
      "execution_count": null,
      "outputs": []
    },
    {
      "cell_type": "code",
      "metadata": {
        "colab": {
          "base_uri": "https://localhost:8080/"
        },
        "id": "QVnN_leQY2jp",
        "outputId": "a8846c64-5d75-4492-d3b0-db7e4f99f5e0"
      },
      "source": [
        "# looping through random state 0 to 99\n",
        "scores=[]\n",
        "for i in range(100):\n",
        "    X_train, X_test, y_train, y_test = train_test_split(X,y,test_size=0.2,random_state=i)\n",
        "    model = SVC(C=1.0)\n",
        "    model.fit(X_train,y_train)\n",
        "    train_score = model.score(X_train,y_train)\n",
        "    test_score = model.score(X_test,y_test)\n",
        "    train_score = round(train_score,2)*100\n",
        "    test_score = round(test_score,2)*100\n",
        "    if test_score>train_score:\n",
        "        print(\"Random_state \"+str(i)+\" have train score \"+str(train_score)+\"% and have test score \"\n",
        "              +str(test_score)+\"%\")\n",
        "        scores.append((i,train_score,test_score))"
      ],
      "execution_count": null,
      "outputs": [
        {
          "output_type": "stream",
          "text": [
            "Random_state 0 have train score 96.0% and have test score 100.0%\n",
            "Random_state 6 have train score 95.0% and have test score 100.0%\n",
            "Random_state 9 have train score 98.0% and have test score 100.0%\n",
            "Random_state 13 have train score 98.0% and have test score 100.0%\n",
            "Random_state 15 have train score 98.0% and have test score 100.0%\n",
            "Random_state 18 have train score 96.0% and have test score 100.0%\n",
            "Random_state 19 have train score 97.0% and have test score 100.0%\n",
            "Random_state 20 have train score 96.0% and have test score 100.0%\n",
            "Random_state 24 have train score 96.0% and have test score 100.0%\n",
            "Random_state 26 have train score 94.0% and have test score 97.0%\n",
            "Random_state 30 have train score 96.0% and have test score 100.0%\n",
            "Random_state 32 have train score 96.0% and have test score 97.0%\n",
            "Random_state 34 have train score 97.0% and have test score 100.0%\n",
            "Random_state 35 have train score 97.0% and have test score 100.0%\n",
            "Random_state 37 have train score 95.0% and have test score 97.0%\n",
            "Random_state 38 have train score 98.0% and have test score 100.0%\n",
            "Random_state 40 have train score 98.0% and have test score 100.0%\n",
            "Random_state 42 have train score 98.0% and have test score 100.0%\n",
            "Random_state 44 have train score 95.0% and have test score 97.0%\n",
            "Random_state 45 have train score 96.0% and have test score 97.0%\n",
            "Random_state 47 have train score 96.0% and have test score 100.0%\n",
            "Random_state 57 have train score 94.0% and have test score 100.0%\n",
            "Random_state 59 have train score 96.0% and have test score 100.0%\n",
            "Random_state 63 have train score 98.0% and have test score 100.0%\n",
            "Random_state 69 have train score 96.0% and have test score 97.0%\n",
            "Random_state 70 have train score 98.0% and have test score 100.0%\n",
            "Random_state 72 have train score 97.0% and have test score 100.0%\n",
            "Random_state 74 have train score 98.0% and have test score 100.0%\n",
            "Random_state 75 have train score 97.0% and have test score 100.0%\n",
            "Random_state 81 have train score 98.0% and have test score 100.0%\n",
            "Random_state 84 have train score 94.0% and have test score 100.0%\n",
            "Random_state 85 have train score 95.0% and have test score 100.0%\n",
            "Random_state 86 have train score 98.0% and have test score 100.0%\n",
            "Random_state 88 have train score 95.0% and have test score 100.0%\n",
            "Random_state 90 have train score 96.0% and have test score 97.0%\n",
            "Random_state 91 have train score 97.0% and have test score 100.0%\n",
            "Random_state 93 have train score 97.0% and have test score 100.0%\n"
          ],
          "name": "stdout"
        }
      ]
    },
    {
      "cell_type": "code",
      "metadata": {
        "id": "o4LHYv_bZP_6"
      },
      "source": [
        "# sorting descending by test score\n",
        "scores.sort(reverse=True,key=lambda x: x[2])"
      ],
      "execution_count": null,
      "outputs": []
    },
    {
      "cell_type": "code",
      "metadata": {
        "colab": {
          "base_uri": "https://localhost:8080/"
        },
        "id": "6OfCl_K_Zey6",
        "outputId": "a57dbad0-cce7-4897-8fed-04fc305e7974"
      },
      "source": [
        "scores[:10]"
      ],
      "execution_count": null,
      "outputs": [
        {
          "output_type": "execute_result",
          "data": {
            "text/plain": [
              "[(0, 96.0, 100.0),\n",
              " (6, 95.0, 100.0),\n",
              " (9, 98.0, 100.0),\n",
              " (13, 98.0, 100.0),\n",
              " (15, 98.0, 100.0),\n",
              " (18, 96.0, 100.0),\n",
              " (19, 97.0, 100.0),\n",
              " (20, 96.0, 100.0),\n",
              " (24, 96.0, 100.0),\n",
              " (30, 96.0, 100.0)]"
            ]
          },
          "metadata": {
            "tags": []
          },
          "execution_count": 10
        }
      ]
    },
    {
      "cell_type": "code",
      "metadata": {
        "colab": {
          "base_uri": "https://localhost:8080/"
        },
        "id": "05dyOtEqZgly",
        "outputId": "e49a992e-8246-41cf-e839-bf922fd21f56"
      },
      "source": [
        "# Showing model performance\n",
        "X_train, X_test, y_train, y_test=train_test_split(X,y,test_size=0.2,random_state=0)\n",
        "model = SVC(C=1.0)\n",
        "model.fit(X_train,y_train)\n",
        "y_pred=model.predict(X_test)\n",
        "report=classification_report(y_pred,y_test,target_names=iris.target_names)\n",
        "print(report)"
      ],
      "execution_count": null,
      "outputs": [
        {
          "output_type": "stream",
          "text": [
            "              precision    recall  f1-score   support\n",
            "\n",
            "      setosa       1.00      1.00      1.00        11\n",
            "  versicolor       1.00      1.00      1.00        13\n",
            "   virginica       1.00      1.00      1.00         6\n",
            "\n",
            "    accuracy                           1.00        30\n",
            "   macro avg       1.00      1.00      1.00        30\n",
            "weighted avg       1.00      1.00      1.00        30\n",
            "\n"
          ],
          "name": "stdout"
        }
      ]
    },
    {
      "cell_type": "code",
      "metadata": {
        "id": "0jUMDK7ZZlvl"
      },
      "source": [
        ""
      ],
      "execution_count": null,
      "outputs": []
    }
  ]
}